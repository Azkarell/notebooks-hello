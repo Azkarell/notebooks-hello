{
 "cells": [
  {
   "cell_type": "markdown",
   "metadata": {},
   "source": [
    "Ein einfaches Beispiel wie Listen und Klassen in C# funktionieren!"
   ]
  },
  {
   "cell_type": "code",
   "execution_count": 9,
   "metadata": {
    "dotnet_interactive": {
     "language": "csharp"
    },
    "vscode": {
     "languageId": "dotnet-interactive.csharp"
    }
   },
   "outputs": [],
   "source": [
    "#nullable enable\n",
    "public class Person {\n",
    "    public string? Name {get; set;}\n",
    "    public int? Age {get; set;}\n",
    "\n",
    "    public Person(string? name = null, int? age = null){\n",
    "        Name = name;\n",
    "        Age = age;\n",
    "    }\n",
    "\n",
    "    public void PrintHello(){\n",
    "        Console.WriteLine($\"Hello I am {Name ?? \"unnamed\"} and I am {Age ?? 0} years old!\");\n",
    "    }\n",
    "}"
   ]
  },
  {
   "cell_type": "code",
   "execution_count": 6,
   "metadata": {
    "dotnet_interactive": {
     "language": "csharp"
    },
    "vscode": {
     "languageId": "dotnet-interactive.csharp"
    }
   },
   "outputs": [],
   "source": [
    "var knownPersons = new List<Person>{ new Person(\"Anna\", 30), new Person(\"Peter\", 32)};"
   ]
  },
  {
   "cell_type": "code",
   "execution_count": 7,
   "metadata": {
    "dotnet_interactive": {
     "language": "csharp"
    },
    "vscode": {
     "languageId": "dotnet-interactive.csharp"
    }
   },
   "outputs": [],
   "source": [
    "void PrintPersonList(List<Person> persons){\n",
    "    foreach(var p in persons){\n",
    "        p.PrintHello();\n",
    "    }\n",
    "}"
   ]
  },
  {
   "cell_type": "code",
   "execution_count": 8,
   "metadata": {
    "dotnet_interactive": {
     "language": "csharp"
    },
    "vscode": {
     "languageId": "dotnet-interactive.csharp"
    }
   },
   "outputs": [
    {
     "name": "stdout",
     "output_type": "stream",
     "text": [
      "Hello I am Anna and I am 30 years old!\r\n",
      "Hello I am Peter and I am 32 years old!\r\n"
     ]
    }
   ],
   "source": [
    "PrintPersonList(knownPersons);"
   ]
  }
 ],
 "metadata": {
  "kernelspec": {
   "display_name": ".NET (C#)",
   "language": "C#",
   "name": ".net-csharp"
  },
  "language_info": {
   "name": "C#"
  }
 },
 "nbformat": 4,
 "nbformat_minor": 2
}
